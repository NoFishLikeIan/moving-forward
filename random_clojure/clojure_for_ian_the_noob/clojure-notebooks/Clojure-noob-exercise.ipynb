{
 "cells": [
  {
   "cell_type": "markdown",
   "metadata": {},
   "source": [
    "\n",
    "    Use the str, vector, list, hash-map, and hash-set functions.\n",
    "    Write a function that takes a number and adds 100 to it.\n",
    "    Write a function, dec-maker, that works exactly like the function inc-maker except with subtraction:\n",
    "\n",
    "    (def dec9 (dec-maker 9))\n",
    "    (dec9 10)\n",
    "    ; => 1\n",
    "\n",
    "    Write a function, mapset, that works like map except the return value is a set:\n",
    "\n",
    "    (mapset inc [1 1 2 2])\n",
    "    ; => #{2 3}\n",
    "\n",
    "    Create a function that’s similar to symmetrize-body-parts except that it has to work with weird space aliens with radial symmetry. Instead of two eyes, arms, legs, and so on, they have five.\n",
    "    Create a function that generalizes symmetrize-body-parts and the function you created in Exercise 5. The new function should take a collection of body parts and the number of matching body parts to add. If you’re completely new to Lisp languages and functional programming, it probably won’t be obvious how to do this. If you get stuck, just move on to the next chapter and revisit the problem later.\n"
   ]
  },
  {
   "cell_type": "code",
   "execution_count": 1,
   "metadata": {},
   "outputs": [
    {
     "data": {
      "text/plain": [
       "120"
      ]
     },
     "execution_count": 1,
     "metadata": {},
     "output_type": "execute_result"
    }
   ],
   "source": [
    "(defn add-hund\n",
    "    [number]\n",
    "    (let [addition (+ number 100)] addition)\n",
    "    )\n",
    "\n",
    "(add-hund 20)"
   ]
  },
  {
   "cell_type": "code",
   "execution_count": 15,
   "metadata": {},
   "outputs": [
    {
     "data": {
      "text/plain": [
       "#'user/filter-four"
      ]
     },
     "execution_count": 15,
     "metadata": {},
     "output_type": "execute_result"
    }
   ],
   "source": [
    "(defn filter-four\n",
    "    [object]\n",
    "    (let [x\n",
    "          (reduce (fn [new_map [key val]]\n",
    "                      (if (> val 4)\n",
    "                          (assoc new_map key val)\n",
    "                          new_map) \n",
    "                      {}\n",
    "                      object\n",
    "                      ))]\n",
    "        x))"
   ]
  },
  {
   "cell_type": "code",
   "execution_count": 16,
   "metadata": {},
   "outputs": [
    {
     "data": {
      "text/plain": [
       "#'user/people"
      ]
     },
     "execution_count": 16,
     "metadata": {},
     "output_type": "execute_result"
    }
   ],
   "source": [
    "(def people {\n",
    "         :fancio 3\n",
    "         :luca 5\n",
    "         :andrea 10\n",
    "         :andy 11\n",
    "         :piero 2\n",
    "         })"
   ]
  },
  {
   "cell_type": "code",
   "execution_count": 34,
   "metadata": {},
   "outputs": [
    {
     "data": {
      "text/plain": [
       "#'user/x"
      ]
     },
     "execution_count": 34,
     "metadata": {},
     "output_type": "execute_result"
    }
   ],
   "source": [
    "(def x (reduce (fn [new_map [key val]]\n",
    "                    (if (> val 2)\n",
    "                        (assoc new_map key val)\n",
    "                            new_map))\n",
    "                \n",
    "                    {} people))"
   ]
  },
  {
   "cell_type": "code",
   "execution_count": 58,
   "metadata": {},
   "outputs": [
    {
     "data": {
      "text/plain": [
       "#'user/t-filter"
      ]
     },
     "execution_count": 58,
     "metadata": {},
     "output_type": "execute_result"
    }
   ],
   "source": [
    "(defn t-filter\n",
    "    [object, t]\n",
    "    (let [x\n",
    "          (reduce (fn [new_map [key val]]\n",
    "                      (if (> val t)\n",
    "                          (assoc new_map key val)\n",
    "                          new_map) \n",
    "                      {}\n",
    "                      object\n",
    "                      ))]\n",
    "        x))"
   ]
  },
  {
   "cell_type": "code",
   "execution_count": 60,
   "metadata": {},
   "outputs": [
    {
     "name": "stdout",
     "output_type": "stream",
     "text": [
      "ArityException Wrong number of args (1) passed to: core/reduce  clojure.lang.AFn.throwArity (AFn.java:429)\n"
     ]
    },
    {
     "ename": "class clojure.lang.ArityException",
     "evalue": "",
     "output_type": "error",
     "traceback": [
      "               AFn.java:   429 clojure.lang.AFn/throwArity                            ",
      "               AFn.java:    32 clojure.lang.AFn/invoke                                ",
      "                     []:     4 user$t_filter/invokeStatic                             ",
      "                     []:     1 user$t_filter/invoke                                   ",
      "               core.clj:  3105 clojure.core$eval/invokeStatic                         ",
      "               core.clj:  3101 clojure.core$eval/invoke                               ",
      "               main.clj:   240 clojure.main$repl$read_eval_print__7408$fn__7411/invoke",
      "               main.clj:   258 clojure.main$repl$fn__7417/invoke                      ",
      "               main.clj:   174 clojure.main$repl/doInvoke                             ",
      "            RestFn.java:  1523 clojure.lang.RestFn/invoke                             ",
      "               AFn.java:   152 clojure.lang.AFn/applyToHelper                         ",
      "               AFn.java:   144 clojure.lang.AFn/applyTo                               ",
      "               core.clj:   646 clojure.core$apply/invokeStatic                        ",
      "               core.clj:  1881 clojure.core$with_bindings_STAR_/invokeStatic          ",
      "            RestFn.java:   425 clojure.lang.RestFn/invoke                             ",
      "               AFn.java:    22 clojure.lang.AFn/run                                   ",
      "ThreadPoolExecutor.java:  1135 java.util.concurrent.ThreadPoolExecutor/runWorker      ",
      "ThreadPoolExecutor.java:   635 java.util.concurrent.ThreadPoolExecutor$Worker/run     ",
      "            Thread.java:   844 java.lang.Thread/run                                   "
     ]
    }
   ],
   "source": [
    "(t-filter people 10)"
   ]
  },
  {
   "cell_type": "code",
   "execution_count": null,
   "metadata": {},
   "outputs": [],
   "source": []
  }
 ],
 "metadata": {
  "kernelspec": {
   "display_name": "Clojure",
   "language": "clojure",
   "name": "clojure"
  },
  "language_info": {
   "file_extension": ".clj",
   "mimetype": "text/x-clojure",
   "name": "clojure",
   "version": "1.8.0"
  }
 },
 "nbformat": 4,
 "nbformat_minor": 2
}
