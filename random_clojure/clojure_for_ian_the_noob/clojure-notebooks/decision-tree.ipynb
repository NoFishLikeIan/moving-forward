{
 "cells": [
  {
   "cell_type": "markdown",
   "metadata": {},
   "source": [
    "Taken from https://github.com/CodeFarmer/decision-tree/blob/master/src/decision_tree/core.clj"
   ]
  },
  {
   "cell_type": "code",
   "execution_count": 1,
   "metadata": {},
   "outputs": [
    {
     "data": {
      "text/plain": [
       "#'user/log2"
      ]
     },
     "execution_count": 1,
     "metadata": {},
     "output_type": "execute_result"
    }
   ],
   "source": [
    "(defn log2 [x]\n",
    "    \"Return the base 2 logarithm of x\"\n",
    "    (/ (Math/log x) (Math/log 2)))"
   ]
  },
  {
   "cell_type": "markdown",
   "metadata": {},
   "source": [
    "Calculates the entropy, where alist is (input, output), then:\n",
    "$$S = -k_{b}\\sum{p\\log(p)}$$"
   ]
  },
  {
   "cell_type": "code",
   "execution_count": 2,
   "metadata": {},
   "outputs": [
    {
     "data": {
      "text/plain": [
       "#'user/entropy"
      ]
     },
     "execution_count": 2,
     "metadata": {},
     "output_type": "execute_result"
    }
   ],
   "source": [
    "(defn entropy [alist]\n",
    "    \"Given a list of pairs if (input, output), calculate the entropy of the list with respect to output\"\n",
    "    (let [n (count alist)\n",
    "          counts (vals (frequencies (map #(nth % 1) alist)))] (comment \"Returns an array of frequencies in alist\")\n",
    "\n",
    "        (reduce + (map #(* (- %) (log2 %)) (map #(/ % n) counts)))))"
   ]
  },
  {
   "cell_type": "code",
   "execution_count": 3,
   "metadata": {},
   "outputs": [
    {
     "data": {
      "text/plain": [
       "#'user/partition-map"
      ]
     },
     "execution_count": 3,
     "metadata": {},
     "output_type": "execute_result"
    }
   ],
   "source": [
    "(defn partition-map\n",
    "  \n",
    "   \"Given function and a seq, return a map of values the function can take when using members of the seq as an argument, to sub-seqs containing the parts of seq corresponding to those outputs\"\n",
    "\n",
    "  ([afn aseq]     \n",
    "\n",
    "     (partition-map {} afn aseq))\n",
    "\n",
    "  ([acc afn aseq]\n",
    "\n",
    "     (if (empty? aseq)\n",
    "       acc\n",
    "       (let [i (first aseq) o (afn i) inputs (get acc o)]\n",
    "         (if inputs\n",
    "           (recur\n",
    "            (assoc acc o (conj inputs i)) afn (rest aseq))\n",
    "           (recur\n",
    "            (assoc acc o [i]) afn (rest aseq)))))))\n"
   ]
  },
  {
   "cell_type": "code",
   "execution_count": 4,
   "metadata": {},
   "outputs": [
    {
     "data": {
      "text/plain": [
       "#'user/all-keys"
      ]
     },
     "execution_count": 4,
     "metadata": {},
     "output_type": "execute_result"
    }
   ],
   "source": [
    "(defn all-keys [aseq]\n",
    "    \"Given a list of maps, return a set containing all the keys from those maps\"\n",
    "    (into #{} (flatten (map keys aseq))))"
   ]
  },
  {
   "cell_type": "code",
   "execution_count": 5,
   "metadata": {},
   "outputs": [
    {
     "data": {
      "text/plain": [
       "#'user/gain"
      ]
     },
     "execution_count": 5,
     "metadata": {},
     "output_type": "execute_result"
    }
   ],
   "source": [
    "(defn gain\n",
    "\n",
    "  ([k alist]\n",
    "\n",
    "     \"Given a key and a list of pairs of (map, output), return the net reduction in entropy caused by partitioning the list according to the values associated with key in the input maps\"\n",
    "               \n",
    "     (gain (entropy alist) k alist))\n",
    "\n",
    "  ([current-entropy k alist]\n",
    "     (let [parts (vals (partition-map #(k (first %)) alist))]\n",
    "       (- current-entropy\n",
    "          (reduce +\n",
    "            (map #(* (entropy %) (/ (count %) (count alist))) parts))))))\n"
   ]
  },
  {
   "cell_type": "code",
   "execution_count": 6,
   "metadata": {},
   "outputs": [
    {
     "data": {
      "text/plain": [
       "#'user/most-informative-key"
      ]
     },
     "execution_count": 6,
     "metadata": {},
     "output_type": "execute_result"
    }
   ],
   "source": [
    "(defn most-informative-key [aseq]\n",
    "    (apply max-key #(gain % aseq) (all-keys (map first aseq))))"
   ]
  },
  {
   "cell_type": "code",
   "execution_count": 7,
   "metadata": {},
   "outputs": [
    {
     "data": {
      "text/plain": [
       "#'user/map-vals"
      ]
     },
     "execution_count": 7,
     "metadata": {},
     "output_type": "execute_result"
    }
   ],
   "source": [
    "(defn map-vals\n",
    "    ([amap fn]\n",
    "     (map-vals {} amap fn))\n",
    "    \n",
    "    ([acc amap fn]\n",
    "     (if (empty? amap)\n",
    "         acc\n",
    "         (let [[k v] (first amap)]\n",
    "            (recur (assoc acc k (fn v)) (rest amap) fn)))))"
   ]
  },
  {
   "cell_type": "code",
   "execution_count": 8,
   "metadata": {},
   "outputs": [
    {
     "data": {
      "text/plain": [
       "#'user/build-decision-tree"
      ]
     },
     "execution_count": 8,
     "metadata": {},
     "output_type": "execute_result"
    }
   ],
   "source": [
    "(defn build-decision-tree [aseq]\n",
    "    (if (zero? (entropy aseq))\n",
    "        (nth (first aseq) 1)\n",
    "        (let [k (most-informative-key aseq)]\n",
    "            [k (map-vals (partition-map #(k (first %)) aseq) build-decision-tree)])))"
   ]
  },
  {
   "cell_type": "code",
   "execution_count": 9,
   "metadata": {},
   "outputs": [
    {
     "data": {
      "text/plain": [
       "#'user/tree-decide"
      ]
     },
     "execution_count": 9,
     "metadata": {},
     "output_type": "execute_result"
    }
   ],
   "source": [
    "(defn tree-decide [tree input-map]\n",
    "\n",
    "  \"Given a decision tree and an input map, make decisions based on the contents of input-map and return the correct output (leaf node).\"\n",
    "\n",
    "  (if (vector? tree)\n",
    "    (let [[k parts-map] tree]\n",
    "      (tree-decide (parts-map (k input-map)) input-map))\n",
    "tree))"
   ]
  },
  {
   "cell_type": "code",
   "execution_count": 10,
   "metadata": {},
   "outputs": [
    {
     "data": {
      "text/plain": [
       "#'user/sample-data"
      ]
     },
     "execution_count": 10,
     "metadata": {},
     "output_type": "execute_result"
    }
   ],
   "source": [
    "(def sample-data \n",
    "    \n",
    "  [[{:outlook \"Sunny\",    :temperature \"Hot\",   :humidity  \"High\",   :wind  \"Weak\"},    \"No\"],\n",
    "   [{:outlook \"Sunny\",    :temperature \"Hot\",   :humidity  \"High\",   :wind  \"Strong\"},  \"No\"],\n",
    "   [{:outlook \"Overcast\", :temperature  \"Hot\",  :humidity  \"High\",   :wind  \"Weak\"},   \"Yes\"],\n",
    "   [{:outlook \"Rain\",     :temperature  \"Mild\", :humidity  \"High\",   :wind  \"Weak\"},   \"Yes\"],\n",
    "   [{:outlook \"Rain\",     :temperature  \"Cool\", :humidity  \"Normal\", :wind  \"Weak\"},   \"Yes\"],\n",
    "   [{:outlook \"Rain\",     :temperature  \"Cool\", :humidity  \"Normal\", :wind  \"Strong\"}, \"No\"],\n",
    "   [{:outlook \"Overcast\", :temperature  \"Cool\", :humidity  \"Normal\", :wind  \"Strong\"}, \"Yes\"],\n",
    "   [{:outlook \"Sunny\",    :temperature  \"Mild\", :humidity  \"High\",   :wind  \"Weak\"},   \"No\"],\n",
    "   [{:outlook \"Sunny\",    :temperature  \"Cool\", :humidity  \"Normal\", :wind  \"Weak\"},   \"Yes\"],\n",
    "   [{:outlook \"Rain\",     :temperature  \"Mild\", :humidity  \"Normal\", :wind  \"Weak\"},   \"Yes\"],\n",
    "   [{:outlook \"Sunny\",    :temperature  \"Mild\", :humidity  \"Normal\", :wind  \"Strong\"}, \"Yes\"],\n",
    "   [{:outlook \"Overcast\", :temperature  \"Mild\", :humidity  \"High\",   :wind  \"Strong\"}, \"Yes\"],\n",
    "   [{:outlook \"Overcast\", :temperature  \"Hot\",  :humidity  \"Normal\", :wind  \"Weak\"},   \"Yes\"],\n",
    "   [{:outlook \"Rain\",     :temperature  \"Mild\", :humidity  \"High\",   :wind  \"Strong\"}, \"No\"]]\n",
    ")"
   ]
  },
  {
   "cell_type": "code",
   "execution_count": 11,
   "metadata": {},
   "outputs": [
    {
     "data": {
      "text/plain": [
       "#'user/tree"
      ]
     },
     "execution_count": 11,
     "metadata": {},
     "output_type": "execute_result"
    }
   ],
   "source": [
    "(def tree (build-decision-tree sample-data))"
   ]
  },
  {
   "cell_type": "code",
   "execution_count": 12,
   "metadata": {},
   "outputs": [
    {
     "data": {
      "text/plain": [
       "\"Yes\""
      ]
     },
     "execution_count": 12,
     "metadata": {},
     "output_type": "execute_result"
    }
   ],
   "source": [
    "(tree-decide tree \n",
    "             {:outlook \"Sunny\"\n",
    "              :temperature \"Cold\"\n",
    "              :humidity \"Normal\"\n",
    "              :wind \"Weak\"\n",
    "              })"
   ]
  },
  {
   "cell_type": "code",
   "execution_count": 46,
   "metadata": {},
   "outputs": [
    {
     "name": "stdout",
     "output_type": "stream",
     "text": [
      "CompilerException java.lang.RuntimeException: Unable to resolve symbol: reader in this context, compiling:(null:4:20) \n"
     ]
    },
    {
     "ename": "class clojure.lang.Compiler$CompilerException",
     "evalue": "",
     "output_type": "error",
     "traceback": [
      "              Util.java:   221 clojure.lang.Util/runtimeException                     ",
      "               core.clj:  3105 clojure.core$eval/invokeStatic                         ",
      "               core.clj:  3101 clojure.core$eval/invoke                               ",
      "               main.clj:   240 clojure.main$repl$read_eval_print__7408$fn__7411/invoke",
      "               main.clj:   258 clojure.main$repl$fn__7417/invoke                      ",
      "               main.clj:   174 clojure.main$repl/doInvoke                             ",
      "            RestFn.java:  1523 clojure.lang.RestFn/invoke                             ",
      "               AFn.java:   152 clojure.lang.AFn/applyToHelper                         ",
      "               AFn.java:   144 clojure.lang.AFn/applyTo                               ",
      "               core.clj:   646 clojure.core$apply/invokeStatic                        ",
      "               core.clj:  1881 clojure.core$with_bindings_STAR_/invokeStatic          ",
      "            RestFn.java:   425 clojure.lang.RestFn/invoke                             ",
      "               AFn.java:    22 clojure.lang.AFn/run                                   ",
      "ThreadPoolExecutor.java:  1135 java.util.concurrent.ThreadPoolExecutor/runWorker      ",
      "ThreadPoolExecutor.java:   635 java.util.concurrent.ThreadPoolExecutor$Worker/run     ",
      "            Thread.java:   844 java.lang.Thread/run                                   "
     ]
    }
   ],
   "source": [
    "(defn take-csv\n",
    "  \"Takes file name and reads data.\"\n",
    "  [fname]\n",
    "  (with-open [file (reader fname)]\n",
    "    (csv/parse-csv (slurp file))))"
   ]
  },
  {
   "cell_type": "code",
   "execution_count": null,
   "metadata": {},
   "outputs": [],
   "source": []
  }
 ],
 "metadata": {
  "kernelspec": {
   "display_name": "Clojure",
   "language": "clojure",
   "name": "clojure"
  },
  "language_info": {
   "file_extension": ".clj",
   "mimetype": "text/x-clojure",
   "name": "clojure",
   "version": "1.8.0"
  }
 },
 "nbformat": 4,
 "nbformat_minor": 2
}
