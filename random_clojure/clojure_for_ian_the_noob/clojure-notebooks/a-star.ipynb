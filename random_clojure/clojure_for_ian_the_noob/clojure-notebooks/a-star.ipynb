{
 "cells": [
  {
   "cell_type": "code",
   "execution_count": 20,
   "metadata": {},
   "outputs": [
    {
     "data": {
      "text/plain": [
       "#'user/array"
      ]
     },
     "execution_count": 20,
     "metadata": {},
     "output_type": "execute_result"
    }
   ],
   "source": [
    "(def array [\n",
    "               [(rand-int 2), (rand-int 2), (rand-int 2), (rand-int 2), (rand-int 2), (rand-int 2), (rand-int 2), (rand-int 2)],\n",
    "               [(rand-int 2), (rand-int 2), (rand-int 2), (rand-int 2), (rand-int 2), (rand-int 2), (rand-int 2), (rand-int 2)],\n",
    "               [(rand-int 2), (rand-int 2), (rand-int 2), (rand-int 2), (rand-int 2), (rand-int 2), (rand-int 2), (rand-int 2)],\n",
    "               [(rand-int 2), (rand-int 2), (rand-int 2), (rand-int 2), (rand-int 2), (rand-int 2), (rand-int 2), (rand-int 2)],\n",
    "               [(rand-int 2), (rand-int 2), (rand-int 2), (rand-int 2), (rand-int 2), (rand-int 2), (rand-int 2), (rand-int 2)],\n",
    "               ])"
   ]
  },
  {
   "cell_type": "code",
   "execution_count": 45,
   "metadata": {},
   "outputs": [
    {
     "data": {
      "text/plain": [
       "#'user/manhattan-distance"
      ]
     },
     "execution_count": 45,
     "metadata": {},
     "output_type": "execute_result"
    }
   ],
   "source": [
    "(defn manhattan-distance\n",
    "    [[x1 y1][x2 y2]]\n",
    "    (+ (Math/abs ^Integer (- x2 x1)) (Math/abs ^Integer (- y2 y1)))\n",
    "    ) "
   ]
  },
  {
   "cell_type": "code",
   "execution_count": 39,
   "metadata": {},
   "outputs": [
    {
     "data": {
      "text/plain": [
       "#'user/cost"
      ]
     },
     "execution_count": 39,
     "metadata": {},
     "output_type": "execute_result"
    }
   ],
   "source": [
    "(defn cost [curr start end]\n",
    "    (let [\n",
    "        g (manhattan-distance start curr)\n",
    "        h (manhattan-distance curr end)\n",
    "        f (+ g h)\n",
    "        ]\n",
    "        [f g h]\n",
    "    )\n",
    ")"
   ]
  },
  {
   "cell_type": "code",
   "execution_count": 51,
   "metadata": {},
   "outputs": [
    {
     "data": {
      "text/plain": [
       "#'user/edges"
      ]
     },
     "execution_count": 51,
     "metadata": {},
     "output_type": "execute_result"
    }
   ],
   "source": [
    "(defn edges [array width height closed [x y]]\n",
    "    (for [tx (range (- x 1) (+ x 2))\n",
    "          ty (range (- y 1) (+ y 2))\n",
    "          :when (and (>= tx 0) \n",
    "                     (>= ty 0)\n",
    "                     (<= tx width)\n",
    "                     (<= ty height) (comment \"check that the iteration is inside the array\")\n",
    "                     (not= [x y] [tx ty]) (comment \"check that we are not at the end\")\n",
    "                     (not= (nth (nth array ty) tx) 1) (comment \"check that the value is not a wall\")\n",
    "                     (not (contains? closed [tx ty])) (comment \"check that we are not in a close\")\n",
    "                )]\n",
    "        [tx ty]))"
   ]
  },
  {
   "cell_type": "code",
   "execution_count": 52,
   "metadata": {},
   "outputs": [
    {
     "data": {
      "text/plain": [
       "#'user/path"
      ]
     },
     "execution_count": 52,
     "metadata": {},
     "output_type": "execute_result"
    }
   ],
   "source": [
    "(defn path [end parent closed]\n",
    "    (reverse (comment \"we iterate through the list in backwards\")\n",
    "        (loop [path [end parent]\n",
    "               node (closed parent)]\n",
    "            (if (nil? node)\n",
    "                path\n",
    "                (recur (conj path node) (closed node))))))"
   ]
  },
  {
   "cell_type": "code",
   "execution_count": null,
   "metadata": {},
   "outputs": [],
   "source": []
  }
 ],
 "metadata": {
  "kernelspec": {
   "display_name": "Clojure",
   "language": "clojure",
   "name": "clojure"
  },
  "language_info": {
   "file_extension": ".clj",
   "mimetype": "text/x-clojure",
   "name": "clojure",
   "version": "1.8.0"
  }
 },
 "nbformat": 4,
 "nbformat_minor": 2
}
