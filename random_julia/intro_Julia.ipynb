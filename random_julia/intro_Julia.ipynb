{
 "cells": [
  {
   "cell_type": "code",
   "execution_count": 15,
   "metadata": {},
   "outputs": [],
   "source": [
    "using Plots\n",
    "using DataFrames\n",
    "using LinearAlgebra\n",
    "\n",
    "using Distributions\n",
    "using PyPlot"
   ]
  },
  {
   "cell_type": "code",
   "execution_count": 3,
   "metadata": {},
   "outputs": [
    {
     "data": {
      "image/svg+xml": [
       "<?xml version=\"1.0\" encoding=\"utf-8\"?>\n",
       "<svg xmlns=\"http://www.w3.org/2000/svg\" xmlns:xlink=\"http://www.w3.org/1999/xlink\" width=\"600\" height=\"400\" viewBox=\"0 0 600 400\">\n",
       "<defs>\n",
       "  <clipPath id=\"clip7400\">\n",
       "    <rect x=\"0\" y=\"0\" width=\"600\" height=\"400\"/>\n",
       "  </clipPath>\n",
       "</defs>\n",
       "<polygon clip-path=\"url(#clip7400)\" points=\"\n",
       "0,400 600,400 600,0 0,0 \n",
       "  \" fill=\"#ffffff\" fill-opacity=\"1\"/>\n",
       "<defs>\n",
       "  <clipPath id=\"clip7401\">\n",
       "    <rect x=\"120\" y=\"0\" width=\"421\" height=\"400\"/>\n",
       "  </clipPath>\n",
       "</defs>\n",
       "<polygon clip-path=\"url(#clip7400)\" points=\"\n",
       "47.376,375.869 580.315,375.869 580.315,11.811 47.376,11.811 \n",
       "  \" fill=\"#ffffff\" fill-opacity=\"1\"/>\n",
       "<defs>\n",
       "  <clipPath id=\"clip7402\">\n",
       "    <rect x=\"47\" y=\"11\" width=\"534\" height=\"365\"/>\n",
       "  </clipPath>\n",
       "</defs>\n",
       "<polyline clip-path=\"url(#clip7402)\" style=\"stroke:#000000; stroke-width:0.5; stroke-opacity:0.1; fill:none\" points=\"\n",
       "  76.4169,375.869 76.4169,11.811 \n",
       "  \"/>\n",
       "<polyline clip-path=\"url(#clip7402)\" style=\"stroke:#000000; stroke-width:0.5; stroke-opacity:0.1; fill:none\" points=\"\n",
       "  183.711,375.869 183.711,11.811 \n",
       "  \"/>\n",
       "<polyline clip-path=\"url(#clip7402)\" style=\"stroke:#000000; stroke-width:0.5; stroke-opacity:0.1; fill:none\" points=\"\n",
       "  291.006,375.869 291.006,11.811 \n",
       "  \"/>\n",
       "<polyline clip-path=\"url(#clip7402)\" style=\"stroke:#000000; stroke-width:0.5; stroke-opacity:0.1; fill:none\" points=\"\n",
       "  398.3,375.869 398.3,11.811 \n",
       "  \"/>\n",
       "<polyline clip-path=\"url(#clip7402)\" style=\"stroke:#000000; stroke-width:0.5; stroke-opacity:0.1; fill:none\" points=\"\n",
       "  505.595,375.869 505.595,11.811 \n",
       "  \"/>\n",
       "<polyline clip-path=\"url(#clip7402)\" style=\"stroke:#000000; stroke-width:0.5; stroke-opacity:0.1; fill:none\" points=\"\n",
       "  47.376,365.612 580.315,365.612 \n",
       "  \"/>\n",
       "<polyline clip-path=\"url(#clip7402)\" style=\"stroke:#000000; stroke-width:0.5; stroke-opacity:0.1; fill:none\" points=\"\n",
       "  47.376,279.736 580.315,279.736 \n",
       "  \"/>\n",
       "<polyline clip-path=\"url(#clip7402)\" style=\"stroke:#000000; stroke-width:0.5; stroke-opacity:0.1; fill:none\" points=\"\n",
       "  47.376,193.861 580.315,193.861 \n",
       "  \"/>\n",
       "<polyline clip-path=\"url(#clip7402)\" style=\"stroke:#000000; stroke-width:0.5; stroke-opacity:0.1; fill:none\" points=\"\n",
       "  47.376,107.986 580.315,107.986 \n",
       "  \"/>\n",
       "<polyline clip-path=\"url(#clip7402)\" style=\"stroke:#000000; stroke-width:0.5; stroke-opacity:0.1; fill:none\" points=\"\n",
       "  47.376,22.1104 580.315,22.1104 \n",
       "  \"/>\n",
       "<polyline clip-path=\"url(#clip7400)\" style=\"stroke:#000000; stroke-width:1; stroke-opacity:1; fill:none\" points=\"\n",
       "  47.376,375.869 580.315,375.869 \n",
       "  \"/>\n",
       "<polyline clip-path=\"url(#clip7400)\" style=\"stroke:#000000; stroke-width:1; stroke-opacity:1; fill:none\" points=\"\n",
       "  47.376,375.869 47.376,11.811 \n",
       "  \"/>\n",
       "<polyline clip-path=\"url(#clip7400)\" style=\"stroke:#000000; stroke-width:1; stroke-opacity:1; fill:none\" points=\"\n",
       "  76.4169,375.869 76.4169,370.408 \n",
       "  \"/>\n",
       "<polyline clip-path=\"url(#clip7400)\" style=\"stroke:#000000; stroke-width:1; stroke-opacity:1; fill:none\" points=\"\n",
       "  183.711,375.869 183.711,370.408 \n",
       "  \"/>\n",
       "<polyline clip-path=\"url(#clip7400)\" style=\"stroke:#000000; stroke-width:1; stroke-opacity:1; fill:none\" points=\"\n",
       "  291.006,375.869 291.006,370.408 \n",
       "  \"/>\n",
       "<polyline clip-path=\"url(#clip7400)\" style=\"stroke:#000000; stroke-width:1; stroke-opacity:1; fill:none\" points=\"\n",
       "  398.3,375.869 398.3,370.408 \n",
       "  \"/>\n",
       "<polyline clip-path=\"url(#clip7400)\" style=\"stroke:#000000; stroke-width:1; stroke-opacity:1; fill:none\" points=\"\n",
       "  505.595,375.869 505.595,370.408 \n",
       "  \"/>\n",
       "<polyline clip-path=\"url(#clip7400)\" style=\"stroke:#000000; stroke-width:1; stroke-opacity:1; fill:none\" points=\"\n",
       "  47.376,365.612 55.3701,365.612 \n",
       "  \"/>\n",
       "<polyline clip-path=\"url(#clip7400)\" style=\"stroke:#000000; stroke-width:1; stroke-opacity:1; fill:none\" points=\"\n",
       "  47.376,279.736 55.3701,279.736 \n",
       "  \"/>\n",
       "<polyline clip-path=\"url(#clip7400)\" style=\"stroke:#000000; stroke-width:1; stroke-opacity:1; fill:none\" points=\"\n",
       "  47.376,193.861 55.3701,193.861 \n",
       "  \"/>\n",
       "<polyline clip-path=\"url(#clip7400)\" style=\"stroke:#000000; stroke-width:1; stroke-opacity:1; fill:none\" points=\"\n",
       "  47.376,107.986 55.3701,107.986 \n",
       "  \"/>\n",
       "<polyline clip-path=\"url(#clip7400)\" style=\"stroke:#000000; stroke-width:1; stroke-opacity:1; fill:none\" points=\"\n",
       "  47.376,22.1104 55.3701,22.1104 \n",
       "  \"/>\n",
       "<g clip-path=\"url(#clip7400)\">\n",
       "<text style=\"fill:#000000; fill-opacity:1; font-family:Arial,Helvetica Neue,Helvetica,sans-serif; font-size:12; text-anchor:middle;\" transform=\"rotate(0, 76.4169, 389.669)\" x=\"76.4169\" y=\"389.669\">-6</text>\n",
       "</g>\n",
       "<g clip-path=\"url(#clip7400)\">\n",
       "<text style=\"fill:#000000; fill-opacity:1; font-family:Arial,Helvetica Neue,Helvetica,sans-serif; font-size:12; text-anchor:middle;\" transform=\"rotate(0, 183.711, 389.669)\" x=\"183.711\" y=\"389.669\">-4</text>\n",
       "</g>\n",
       "<g clip-path=\"url(#clip7400)\">\n",
       "<text style=\"fill:#000000; fill-opacity:1; font-family:Arial,Helvetica Neue,Helvetica,sans-serif; font-size:12; text-anchor:middle;\" transform=\"rotate(0, 291.006, 389.669)\" x=\"291.006\" y=\"389.669\">-2</text>\n",
       "</g>\n",
       "<g clip-path=\"url(#clip7400)\">\n",
       "<text style=\"fill:#000000; fill-opacity:1; font-family:Arial,Helvetica Neue,Helvetica,sans-serif; font-size:12; text-anchor:middle;\" transform=\"rotate(0, 398.3, 389.669)\" x=\"398.3\" y=\"389.669\">0</text>\n",
       "</g>\n",
       "<g clip-path=\"url(#clip7400)\">\n",
       "<text style=\"fill:#000000; fill-opacity:1; font-family:Arial,Helvetica Neue,Helvetica,sans-serif; font-size:12; text-anchor:middle;\" transform=\"rotate(0, 505.595, 389.669)\" x=\"505.595\" y=\"389.669\">2</text>\n",
       "</g>\n",
       "<g clip-path=\"url(#clip7400)\">\n",
       "<text style=\"fill:#000000; fill-opacity:1; font-family:Arial,Helvetica Neue,Helvetica,sans-serif; font-size:12; text-anchor:end;\" transform=\"rotate(0, 41.376, 370.112)\" x=\"41.376\" y=\"370.112\">-1.0</text>\n",
       "</g>\n",
       "<g clip-path=\"url(#clip7400)\">\n",
       "<text style=\"fill:#000000; fill-opacity:1; font-family:Arial,Helvetica Neue,Helvetica,sans-serif; font-size:12; text-anchor:end;\" transform=\"rotate(0, 41.376, 284.236)\" x=\"41.376\" y=\"284.236\">-0.5</text>\n",
       "</g>\n",
       "<g clip-path=\"url(#clip7400)\">\n",
       "<text style=\"fill:#000000; fill-opacity:1; font-family:Arial,Helvetica Neue,Helvetica,sans-serif; font-size:12; text-anchor:end;\" transform=\"rotate(0, 41.376, 198.361)\" x=\"41.376\" y=\"198.361\">0.0</text>\n",
       "</g>\n",
       "<g clip-path=\"url(#clip7400)\">\n",
       "<text style=\"fill:#000000; fill-opacity:1; font-family:Arial,Helvetica Neue,Helvetica,sans-serif; font-size:12; text-anchor:end;\" transform=\"rotate(0, 41.376, 112.486)\" x=\"41.376\" y=\"112.486\">0.5</text>\n",
       "</g>\n",
       "<g clip-path=\"url(#clip7400)\">\n",
       "<text style=\"fill:#000000; fill-opacity:1; font-family:Arial,Helvetica Neue,Helvetica,sans-serif; font-size:12; text-anchor:end;\" transform=\"rotate(0, 41.376, 26.6104)\" x=\"41.376\" y=\"26.6104\">1.0</text>\n",
       "</g>\n",
       "<polyline clip-path=\"url(#clip7402)\" style=\"stroke:#009af9; stroke-width:1; stroke-opacity:1; fill:none\" points=\"\n",
       "  62.4592,189.909 63.6936,185.96 64.9281,182.014 66.1625,178.075 71.8696,160.005 77.5766,142.318 83.2837,125.213 88.9907,108.885 94.6978,93.517 100.405,79.2839 \n",
       "  106.112,66.3461 111.819,54.8501 115.249,48.69 118.678,43.123 122.108,38.1718 125.538,33.8568 128.967,30.1955 132.397,27.2029 135.827,24.8912 139.257,23.2699 \n",
       "  145.056,22.1161 150.856,22.9676 156.655,25.8142 162.455,30.6229 168.755,38.0037 175.055,47.5313 178.205,53.0603 181.354,59.0746 184.504,65.5534 187.654,72.4745 \n",
       "  193.462,86.3139 199.27,101.413 205.078,117.594 210.886,134.668 223.34,173.348 235.793,213.128 243.008,235.835 250.222,257.785 257.436,278.581 264.651,297.846 \n",
       "  267.856,305.824 271.062,313.402 274.267,320.553 277.473,327.252 283.884,339.199 290.296,349.073 295.918,355.914 301.54,360.976 307.162,364.205 312.784,365.565 \n",
       "  315.849,365.513 318.913,364.901 321.978,363.731 325.043,362.006 331.173,356.919 337.302,349.705 343.468,340.399 349.634,329.158 355.8,316.132 361.966,301.493 \n",
       "  368.783,283.663 375.601,264.385 382.418,243.969 389.235,222.745 402.208,181.361 415.181,140.705 421.926,120.646 428.67,101.744 435.415,84.2948 442.159,68.5754 \n",
       "  447.836,56.8667 453.514,46.6909 459.191,38.1618 464.869,31.3748 468.334,28.1214 471.8,25.5594 475.266,23.6996 478.731,22.5497 482.197,22.1145 485.663,22.3959 \n",
       "  489.129,23.3926 492.594,25.1004 495.852,27.348 499.11,30.2095 502.368,33.6744 505.626,37.7298 508.884,42.3608 512.142,47.5504 515.399,53.2793 518.657,59.5266 \n",
       "  523.877,70.5572 529.096,82.7539 534.315,96.0015 539.535,110.175 549.974,140.754 560.412,173.338 562.019,178.452 563.625,183.581 565.232,188.719 \n",
       "  \"/>\n",
       "<polygon clip-path=\"url(#clip7400)\" points=\"\n",
       "434.759,62.931 562.315,62.931 562.315,32.691 434.759,32.691 \n",
       "  \" fill=\"#ffffff\" fill-opacity=\"1\"/>\n",
       "<polyline clip-path=\"url(#clip7400)\" style=\"stroke:#000000; stroke-width:1; stroke-opacity:1; fill:none\" points=\"\n",
       "  434.759,62.931 562.315,62.931 562.315,32.691 434.759,32.691 434.759,62.931 \n",
       "  \"/>\n",
       "<polyline clip-path=\"url(#clip7400)\" style=\"stroke:#009af9; stroke-width:1; stroke-opacity:1; fill:none\" points=\"\n",
       "  440.759,47.811 476.759,47.811 \n",
       "  \"/>\n",
       "<g clip-path=\"url(#clip7400)\">\n",
       "<text style=\"fill:#000000; fill-opacity:1; font-family:Arial,Helvetica Neue,Helvetica,sans-serif; font-size:12; text-anchor:start;\" transform=\"rotate(0, 482.759, 52.311)\" x=\"482.759\" y=\"52.311\">sine function</text>\n",
       "</g>\n",
       "</svg>\n"
      ]
     },
     "execution_count": 3,
     "metadata": {},
     "output_type": "execute_result"
    }
   ],
   "source": [
    "plot(sin, -2pi, pi, label = \"sine function\")"
   ]
  },
  {
   "cell_type": "code",
   "execution_count": 16,
   "metadata": {},
   "outputs": [
    {
     "data": {
      "text/plain": [
       "PyPlot"
      ]
     },
     "execution_count": 16,
     "metadata": {},
     "output_type": "execute_result"
    }
   ],
   "source": [
    "plt = PyPlot"
   ]
  },
  {
   "cell_type": "code",
   "execution_count": 17,
   "metadata": {},
   "outputs": [
    {
     "data": {
      "text/plain": [
       "(10, 60)"
      ]
     },
     "execution_count": 17,
     "metadata": {},
     "output_type": "execute_result"
    }
   ],
   "source": [
    "n, a, b = 50, 200, 100\n",
    "w_min, w_max = 10, 60"
   ]
  },
  {
   "cell_type": "code",
   "execution_count": 20,
   "metadata": {},
   "outputs": [
    {
     "data": {
      "text/plain": [
       "BetaBinomial{Float64}(n=50, α=200.0, β=100.0)"
      ]
     },
     "execution_count": 20,
     "metadata": {},
     "output_type": "execute_result"
    }
   ],
   "source": [
    "dist = BetaBinomial(n,a,b)"
   ]
  },
  {
   "cell_type": "code",
   "execution_count": 22,
   "metadata": {},
   "outputs": [
    {
     "ename": "LoadError",
     "evalue": "MethodError: no method matching iterate(::BetaBinomial{Float64})\nClosest candidates are:\n  iterate(!Matched::Core.SimpleVector) at essentials.jl:578\n  iterate(!Matched::Core.SimpleVector, !Matched::Any) at essentials.jl:578\n  iterate(!Matched::ExponentialBackOff) at error.jl:171\n  ...",
     "output_type": "error",
     "traceback": [
      "MethodError: no method matching iterate(::BetaBinomial{Float64})\nClosest candidates are:\n  iterate(!Matched::Core.SimpleVector) at essentials.jl:578\n  iterate(!Matched::Core.SimpleVector, !Matched::Any) at essentials.jl:578\n  iterate(!Matched::ExponentialBackOff) at error.jl:171\n  ...",
      "",
      "Stacktrace:",
      " [1] copyto!(::Array{Int64,1}, ::BetaBinomial{Float64}) at ./abstractarray.jl:646",
      " [2] _collect(::UnitRange{Int64}, ::BetaBinomial{Float64}, ::Base.HasEltype, ::Base.HasLength) at ./array.jl:563",
      " [3] collect(::BetaBinomial{Float64}) at ./array.jl:557",
      " [4] broadcastable(::BetaBinomial{Float64}) at ./broadcast.jl:609",
      " [5] broadcasted(::Function, ::BetaBinomial{Float64}, ::UnitRange{Int64}) at ./broadcast.jl:1139",
      " [6] top-level scope at none:0"
     ]
    }
   ],
   "source": [
    "const p_vals = pdf.(dist, support(dist))"
   ]
  },
  {
   "cell_type": "code",
   "execution_count": null,
   "metadata": {},
   "outputs": [],
   "source": []
  }
 ],
 "metadata": {
  "kernelspec": {
   "display_name": "Julia 1.0.0",
   "language": "julia",
   "name": "julia-1.0"
  },
  "language_info": {
   "file_extension": ".jl",
   "mimetype": "application/julia",
   "name": "julia",
   "version": "1.0.0"
  }
 },
 "nbformat": 4,
 "nbformat_minor": 2
}
