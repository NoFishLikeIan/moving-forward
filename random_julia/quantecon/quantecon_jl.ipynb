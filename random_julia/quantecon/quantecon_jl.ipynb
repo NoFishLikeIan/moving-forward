{
 "cells": [
  {
   "cell_type": "markdown",
   "metadata": {},
   "source": [
    "### A Problem that Stumped Milton Friedman"
   ]
  },
  {
   "cell_type": "code",
   "execution_count": 3,
   "metadata": {},
   "outputs": [],
   "source": [
    "using Distributions\n",
    "using Plots"
   ]
  },
  {
   "cell_type": "code",
   "execution_count": 74,
   "metadata": {
    "scrolled": true
   },
   "outputs": [
    {
     "data": {
      "text/plain": [
       "1001-element Array{Float64,1}:\n",
       " 0.0                   \n",
       " 2.170457938830654e-22 \n",
       " 5.512032427692424e-20 \n",
       " 1.4013892203719879e-18\n",
       " 1.388615812283326e-17 \n",
       " 8.210548086088651e-17 \n",
       " 3.502100029293276e-16 \n",
       " 1.1923555467768476e-15\n",
       " 3.4422367860402065e-15\n",
       " 8.761062523153713e-15 \n",
       " 2.0188731169388456e-14\n",
       " 4.292786428532314e-14 \n",
       " 8.541477345825266e-14 \n",
       " ⋮                     \n",
       " 4.292786428532345e-14 \n",
       " 2.0188731169388598e-14\n",
       " 8.761062523153776e-15 \n",
       " 3.4422367860402313e-15\n",
       " 1.1923555467768645e-15\n",
       " 3.5021000292933013e-16\n",
       " 8.210548086088709e-17 \n",
       " 1.3886158122833357e-17\n",
       " 1.4013892203719977e-18\n",
       " 5.512032427692424e-20 \n",
       " 2.170457938830654e-22 \n",
       " 0.0                   "
      ]
     },
     "execution_count": 74,
     "metadata": {},
     "output_type": "execute_result"
    }
   ],
   "source": [
    "f0 = pdf.(Beta(1, 1), range(0.0, step = 1/1000, stop = 1.0))\n",
    "f0 = f0/sum(f0)\n",
    "f1 = pdf.(Beta(9,9), range(0.0, step = 1/1000, stop = 1.0))\n",
    "f1 = f1/sum(f1)"
   ]
  },
  {
   "cell_type": "code",
   "execution_count": 56,
   "metadata": {},
   "outputs": [
    {
     "data": {
      "text/plain": [
       "3-element Array{Float64,1}:\n",
       " 0.25\n",
       " 0.5 \n",
       " 0.75"
      ]
     },
     "execution_count": 56,
     "metadata": {},
     "output_type": "execute_result"
    }
   ],
   "source": [
    "mix = Array{Float64}(undef, size(f0)[1], 3) # Index 1\n",
    "labels = Array{String}(undef, 1, 3)\n",
    "p_k = [0.25, 0.5, 0.75]"
   ]
  },
  {
   "cell_type": "code",
   "execution_count": 62,
   "metadata": {},
   "outputs": [],
   "source": [
    "for i in 1:3\n",
    "    mix[:,i] =  p_k[i] * f0 + (1 - p_k[i]) * f1\n",
    "    labels[1, i] = string(\"$p_k = \", p_k[i])\n",
    "end"
   ]
  },
  {
   "cell_type": "code",
   "execution_count": 78,
   "metadata": {},
   "outputs": [],
   "source": [
    "a = plot([f0,f1],\n",
    "    xlabel = \"$k$values\",\n",
    "    ylabel=\"Probability of $z_k$\",\n",
    "    labels=[\"$f_0\" \"$f_1\"],\n",
    "    linewidth=2,\n",
    "    ylims=[0.;0.07],\n",
    "    title=\"Original Distributions\")\n",
    "\n",
    "b = plot(mix,\n",
    "         xlabel=\"$k$ Values\",\n",
    "         ylabel=\"Probability of $z_k$\",\n",
    "         labels=labels,\n",
    "         linewidth=2,\n",
    "         ylims=[0.;0.06],\n",
    "         title=\"Mixture of Original Distributions\")\n",
    "\n",
    "plot(a, b, layout=(2,1), size = (1000,800))"
   ]
  },
  {
   "cell_type": "code",
   "execution_count": 79,
   "metadata": {},
   "outputs": [
    {
     "name": "stderr",
     "output_type": "stream",
     "text": [
      "┌ Info: Precompiling QuantEcon [fcd29c91-0bd7-5a09-975d-7ac3f643a60c]\n",
      "└ @ Base loading.jl:1186\n",
      "WARNING: could not import Base.mean into QuantEcon\n",
      "WARNING: could not import Base.std into QuantEcon\n",
      "WARNING: could not import Base.var into QuantEcon\n",
      "ERROR: LoadError: LoadError: LoadError: UndefVarError: @doc_str not defined\n",
      "Stacktrace:\n",
      " [1] top-level scope\n",
      " [2] include at ./boot.jl:317 [inlined]\n",
      " [3] include_relative(::Module, ::String) at ./loading.jl:1038\n",
      " [4] include at ./sysimg.jl:29 [inlined]\n",
      " [5] include(::String) at /Users/andreatitton/.julia/packages/QuantEcon/tkpvN/src/QuantEcon.jl:3\n",
      " [6] top-level scope at none:0\n",
      " [7] include at ./boot.jl:317 [inlined]\n",
      " [8] include_relative(::Module, ::String) at ./loading.jl:1038\n",
      " [9] include(::Module, ::String) at ./sysimg.jl:29\n",
      " [10] top-level scope at none:2\n",
      " [11] eval at ./boot.jl:319 [inlined]\n",
      " [12] eval(::Expr) at ./client.jl:389\n",
      " [13] top-level scope at ./none:3\n",
      "in expression starting at /Users/andreatitton/.julia/packages/QuantEcon/tkpvN/src/util.jl:123\n",
      "in expression starting at /Users/andreatitton/.julia/packages/QuantEcon/tkpvN/src/util.jl:123\n",
      "in expression starting at /Users/andreatitton/.julia/packages/QuantEcon/tkpvN/src/QuantEcon.jl:156\n"
     ]
    },
    {
     "ename": "ErrorException",
     "evalue": "Failed to precompile QuantEcon [fcd29c91-0bd7-5a09-975d-7ac3f643a60c] to /Users/andreatitton/.julia/compiled/v1.0/QuantEcon/V0Mv9.ji.",
     "output_type": "error",
     "traceback": [
      "Failed to precompile QuantEcon [fcd29c91-0bd7-5a09-975d-7ac3f643a60c] to /Users/andreatitton/.julia/compiled/v1.0/QuantEcon/V0Mv9.ji.",
      "",
      "Stacktrace:",
      " [1] error(::String) at ./error.jl:33",
      " [2] macro expansion at ./logging.jl:313 [inlined]",
      " [3] compilecache(::Base.PkgId, ::String) at ./loading.jl:1184",
      " [4] macro expansion at ./logging.jl:311 [inlined]",
      " [5] _require(::Base.PkgId) at ./loading.jl:941",
      " [6] require(::Base.PkgId) at ./loading.jl:852",
      " [7] macro expansion at ./logging.jl:311 [inlined]",
      " [8] require(::Module, ::Symbol) at ./loading.jl:834",
      " [9] top-level scope at In[79]:1"
     ]
    }
   ],
   "source": [
    "using QuantEcon.compute_fixed_point, QuantEcon.DiscreteRV, QuantEcon.draw, QuantEcon.LinInterp"
   ]
  },
  {
   "cell_type": "code",
   "execution_count": null,
   "metadata": {},
   "outputs": [],
   "source": []
  }
 ],
 "metadata": {
  "kernelspec": {
   "display_name": "Julia 1.0.0",
   "language": "julia",
   "name": "julia-1.0"
  },
  "language_info": {
   "file_extension": ".jl",
   "mimetype": "application/julia",
   "name": "julia",
   "version": "1.0.0"
  }
 },
 "nbformat": 4,
 "nbformat_minor": 2
}
