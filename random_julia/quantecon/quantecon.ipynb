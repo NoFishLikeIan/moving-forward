{
 "cells": [
  {
   "cell_type": "code",
   "execution_count": 4,
   "metadata": {},
   "outputs": [
    {
     "name": "stderr",
     "output_type": "stream",
     "text": [
      "┌ Info: Precompiling QuantEcon [fcd29c91-0bd7-5a09-975d-7ac3f643a60c]\n",
      "└ @ Base loading.jl:1186\n",
      "WARNING: could not import Base.mean into QuantEcon\n",
      "WARNING: could not import Base.std into QuantEcon\n",
      "WARNING: could not import Base.var into QuantEcon\n",
      "ERROR: LoadError: LoadError: UndefVarError: LinAlg not defined\n",
      "Stacktrace:\n",
      " [1] top-level scope at none:0\n",
      " [2] include at ./boot.jl:317 [inlined]\n",
      " [3] include_relative(::Module, ::String) at ./loading.jl:1038\n",
      " [4] include at ./sysimg.jl:29 [inlined]\n",
      " [5] include(::String) at /Users/andreatitton/.julia/packages/QuantEcon/oMADJ/src/QuantEcon.jl:3\n",
      " [6] top-level scope at none:0\n",
      " [7] include at ./boot.jl:317 [inlined]\n",
      " [8] include_relative(::Module, ::String) at ./loading.jl:1038\n",
      " [9] include(::Module, ::String) at ./sysimg.jl:29\n",
      " [10] top-level scope at none:2\n",
      " [11] eval at ./boot.jl:319 [inlined]\n",
      " [12] eval(::Expr) at ./client.jl:389\n",
      " [13] top-level scope at ./none:3\n",
      "in expression starting at /Users/andreatitton/.julia/packages/QuantEcon/oMADJ/src/sampler.jl:7\n",
      "in expression starting at /Users/andreatitton/.julia/packages/QuantEcon/oMADJ/src/QuantEcon.jl:143\n"
     ]
    },
    {
     "ename": "LoadError",
     "evalue": "Failed to precompile QuantEcon [fcd29c91-0bd7-5a09-975d-7ac3f643a60c] to /Users/andreatitton/.julia/compiled/v1.0/QuantEcon/V0Mv9.ji.",
     "output_type": "error",
     "traceback": [
      "Failed to precompile QuantEcon [fcd29c91-0bd7-5a09-975d-7ac3f643a60c] to /Users/andreatitton/.julia/compiled/v1.0/QuantEcon/V0Mv9.ji.",
      "",
      "Stacktrace:",
      " [1] error(::String) at ./error.jl:33",
      " [2] macro expansion at ./logging.jl:313 [inlined]",
      " [3] compilecache(::Base.PkgId, ::String) at ./loading.jl:1184",
      " [4] macro expansion at ./logging.jl:311 [inlined]",
      " [5] _require(::Base.PkgId) at ./loading.jl:941",
      " [6] require(::Base.PkgId) at ./loading.jl:852",
      " [7] macro expansion at ./logging.jl:311 [inlined]",
      " [8] require(::Module, ::Symbol) at ./loading.jl:834"
     ]
    }
   ],
   "source": [
    "using QuantEcon"
   ]
  },
  {
   "cell_type": "code",
   "execution_count": 2,
   "metadata": {},
   "outputs": [
    {
     "data": {
      "text/plain": [
       "73//66"
      ]
     },
     "execution_count": 2,
     "metadata": {},
     "output_type": "execute_result"
    }
   ],
   "source": [
    "a + 17 // 22"
   ]
  },
  {
   "cell_type": "code",
   "execution_count": null,
   "metadata": {},
   "outputs": [],
   "source": []
  }
 ],
 "metadata": {
  "kernelspec": {
   "display_name": "Julia 1.0.0",
   "language": "julia",
   "name": "julia-1.0"
  },
  "language_info": {
   "file_extension": ".jl",
   "mimetype": "application/julia",
   "name": "julia",
   "version": "1.0.0"
  }
 },
 "nbformat": 4,
 "nbformat_minor": 2
}
