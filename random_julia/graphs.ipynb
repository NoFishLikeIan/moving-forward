{
 "cells": [
  {
   "cell_type": "code",
   "execution_count": 41,
   "metadata": {},
   "outputs": [
    {
     "name": "stderr",
     "output_type": "stream",
     "text": [
      "┌ Info: Precompiling SimpleWeightedGraphs [47aef6b3-ad0c-573a-a1e2-d07658019622]\n",
      "└ @ Base loading.jl:1186\n"
     ]
    }
   ],
   "source": [
    "using LightGraphs, SimpleWeightedGraphs\n",
    "using StatsBase"
   ]
  },
  {
   "cell_type": "code",
   "execution_count": 44,
   "metadata": {},
   "outputs": [
    {
     "name": "stderr",
     "output_type": "stream",
     "text": [
      "┌ Warning: Note: adding edges to this graph type is not performant.\n",
      "└ @ SimpleWeightedGraphs /Users/andreatitton/.julia/packages/SimpleWeightedGraphs/diCGL/src/simpleweightedgraph.jl:95\n"
     ]
    },
    {
     "data": {
      "text/plain": [
       "true"
      ]
     },
     "execution_count": 44,
     "metadata": {},
     "output_type": "execute_result"
    }
   ],
   "source": [
    "G = SimpleWeightedGraph()\n",
    "add_vertices!(G, 5)\n",
    "add_edge!(G, 1, 2, 0.5)\n",
    "add_edge!(G, 1, 3, 0.2)\n",
    "add_edge!(G, 2, 4, 0.1)\n",
    "add_edge!(G, 3, 4, 0.5)\n",
    "add_edge!(G, 3, 5, 0.6)\n",
    "add_edge!(G, 4, 5, 0.8)"
   ]
  },
  {
   "cell_type": "code",
   "execution_count": 37,
   "metadata": {},
   "outputs": [
    {
     "data": {
      "text/plain": [
       "true"
      ]
     },
     "execution_count": 37,
     "metadata": {},
     "output_type": "execute_result"
    }
   ],
   "source": [
    "function a_star!{V,D}(\n",
    "        graph::AbstractGraph{V},\n",
    "        frontier,\n",
    "        colormap::Vector{Int},\n",
    "        edge_dists::\n",
    "    )"
   ]
  },
  {
   "cell_type": "code",
   "execution_count": 46,
   "metadata": {},
   "outputs": [
    {
     "data": {
      "text/plain": [
       "{5, 6} undirected simple Int64 graph with Float64 weights"
      ]
     },
     "execution_count": 46,
     "metadata": {},
     "output_type": "execute_result"
    }
   ],
   "source": [
    "eG"
   ]
  },
  {
   "cell_type": "code",
   "execution_count": null,
   "metadata": {},
   "outputs": [],
   "source": []
  }
 ],
 "metadata": {
  "kernelspec": {
   "display_name": "Julia 1.0.0",
   "language": "julia",
   "name": "julia-1.0"
  },
  "language_info": {
   "file_extension": ".jl",
   "mimetype": "application/julia",
   "name": "julia",
   "version": "1.0.0"
  }
 },
 "nbformat": 4,
 "nbformat_minor": 2
}
