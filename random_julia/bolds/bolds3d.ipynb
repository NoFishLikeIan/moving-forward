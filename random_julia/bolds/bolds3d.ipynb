{
 "cells": [
  {
   "cell_type": "markdown",
   "metadata": {},
   "source": [
    "### Bolds 3d using Compose\n",
    "\n",
    "Code from [here](https://gist.github.com/rohitvarkey/2998a188447ff4301090)"
   ]
  },
  {
   "cell_type": "code",
   "execution_count": 2,
   "metadata": {},
   "outputs": [
    {
     "ename": "ArgumentError",
     "evalue": "ArgumentError: Package Compose3D not found in current path:\n- Run `Pkg.add(\"Compose3D\")` to install the Compose3D package.\n",
     "output_type": "error",
     "traceback": [
      "ArgumentError: Package Compose3D not found in current path:\n- Run `Pkg.add(\"Compose3D\")` to install the Compose3D package.\n",
      "",
      "Stacktrace:",
      " [1] require(::Module, ::Symbol) at ./loading.jl:817",
      " [2] top-level scope at In[2]:1"
     ]
    }
   ],
   "source": [
    "using Compose3D\n",
    "using Color\n",
    "\n",
    "Escher.external_setup()"
   ]
  },
  {
   "cell_type": "code",
   "execution_count": null,
   "metadata": {},
   "outputs": [],
   "source": []
  }
 ],
 "metadata": {
  "kernelspec": {
   "display_name": "Julia 1.0.0",
   "language": "julia",
   "name": "julia-1.0"
  },
  "language_info": {
   "file_extension": ".jl",
   "mimetype": "application/julia",
   "name": "julia",
   "version": "1.0.0"
  }
 },
 "nbformat": 4,
 "nbformat_minor": 2
}
