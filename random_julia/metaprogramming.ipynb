{
 "cells": [
  {
   "cell_type": "markdown",
   "metadata": {},
   "source": [
    "### Code for\n",
    "https://www.youtube.com/watch?v=SeqAQHKLNj4&feature=youtu.be"
   ]
  },
  {
   "cell_type": "code",
   "execution_count": 2,
   "metadata": {},
   "outputs": [
    {
     "name": "stderr",
     "output_type": "stream",
     "text": [
      "┌ Info: Precompiling Query [1a8c2f83-1ff3-5112-b086-8aa67b057ba1]\n",
      "└ @ Base loading.jl:1186\n"
     ]
    }
   ],
   "source": [
    "using Query"
   ]
  },
  {
   "cell_type": "code",
   "execution_count": 23,
   "metadata": {},
   "outputs": [
    {
     "data": {
      "text/plain": [
       "f (generic function with 1 method)"
      ]
     },
     "execution_count": 23,
     "metadata": {},
     "output_type": "execute_result"
    }
   ],
   "source": [
    "b = 3\n",
    "\n",
    "function f(x::Int64, y::Int64)\n",
    "    return x+y\n",
    "end"
   ]
  },
  {
   "cell_type": "code",
   "execution_count": 49,
   "metadata": {},
   "outputs": [
    {
     "data": {
      "text/plain": [
       "CodeInfo(\n",
       "\u001b[90m\u001b[74G│╻ +\u001b[1G\u001b[39m\u001b[90m4 \u001b[39m1 ─ %1 = (Base.add_int)(x, y)\u001b[36m::Int64\u001b[39m\n",
       "\u001b[90m\u001b[74G│ \u001b[1G\u001b[39m\u001b[90m  \u001b[39m└──      return %1\n",
       ") => Int64"
      ]
     },
     "execution_count": 49,
     "metadata": {},
     "output_type": "execute_result"
    }
   ],
   "source": [
    "@code_typed f(3,2)"
   ]
  },
  {
   "cell_type": "code",
   "execution_count": 46,
   "metadata": {},
   "outputs": [
    {
     "name": "stdout",
     "output_type": "stream",
     "text": [
      "Expr\n",
      "  head: Symbol =\n",
      "  args: Array{Any}((2,))\n",
      "    1: Expr\n",
      "      head: Symbol ref\n",
      "      args: Array{Any}((2,))\n",
      "        1: Symbol a\n",
      "        2: Symbol x\n",
      "    2: Int64 2\n",
      "\t.section\t__TEXT,__text,regular,pure_instructions\n",
      "; Function vect {\n",
      "; Location: array.jl:130\n",
      "\tincl\t%ecx\n",
      "\tpushl\t%edi\n",
      "\tincl\t%ecx\n",
      "\tpushl\t%esi\n",
      "\tpushl\t%ebx\n",
      "\tdecl\t%ecx\n",
      "\tmovl\t%edx, %esi\n",
      "\tdecl\t%ecx\n",
      "\tmovl\t%esi, %edi\n",
      "\tdecl\t%eax\n",
      "\tmovl\t%edi, %ebx\n",
      "; Function similar; {\n",
      "; Location: abstractarray.jl:617\n",
      "; Function similar; {\n",
      "; Location: abstractarray.jl:618\n",
      "; Function Type; {\n",
      "; Location: boot.jl:411\n",
      "; Function Type; {\n",
      "; Location: boot.jl:403\n",
      "; Function Type; {\n",
      "; Location: boot.jl:394\n",
      "\tdecl\t%eax\n",
      "\tmovl\t$106974448, %edi        ## imm = 0x6604CF0\n",
      "\taddl\t%eax, (%eax)\n",
      "\taddb\t%al, (%eax)\n",
      "\tdecl\t%eax\n",
      "\tmovl\t$33265024, %eax         ## imm = 0x1FB9580\n",
      "\taddl\t%eax, (%eax)\n",
      "\taddb\t%al, (%eax)\n",
      "\tmovl\t$3, %esi\n",
      "\tcalll\t*%eax\n",
      "\tdecl\t%eax\n",
      "\tmovl\t(%eax), %ecx\n",
      ";}}}}}\n",
      "; Function setindex!; {\n",
      "; Location: array.jl:769\n",
      "\tdecl\t%eax\n",
      "\tmovl\t%ebx, (%ecx)\n",
      "\tdecl\t%esp\n",
      "\tmovl\t%edi, 8(%ecx)\n",
      "\tdecl\t%esp\n",
      "\tmovl\t%esi, 16(%ecx)\n",
      ";}\n",
      "\tpopl\t%ebx\n",
      "\tincl\t%ecx\n",
      "\tpopl\t%esi\n",
      "\tincl\t%ecx\n",
      "\tpopl\t%edi\n",
      "\tretl\n",
      "\tnopl\t(%eax)\n",
      ";}\n"
     ]
    }
   ],
   "source": [
    "dump(:(a[x] = 2))\n",
    "\n",
    "func(x) = x[1] = 2\n",
    "@code_native([1,2,3])"
   ]
  },
  {
   "cell_type": "code",
   "execution_count": 50,
   "metadata": {},
   "outputs": [],
   "source": [
    "abstract type Bit; end"
   ]
  },
  {
   "cell_type": "code",
   "execution_count": null,
   "metadata": {},
   "outputs": [],
   "source": []
  }
 ],
 "metadata": {
  "kernelspec": {
   "display_name": "Julia 1.0.0",
   "language": "julia",
   "name": "julia-1.0"
  },
  "language_info": {
   "file_extension": ".jl",
   "mimetype": "application/julia",
   "name": "julia",
   "version": "1.0.0"
  }
 },
 "nbformat": 4,
 "nbformat_minor": 2
}
