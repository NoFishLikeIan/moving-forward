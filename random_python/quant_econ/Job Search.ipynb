{
 "cells": [
  {
   "cell_type": "markdown",
   "metadata": {},
   "source": [
    "### McCall Search Model"
   ]
  },
  {
   "cell_type": "code",
   "execution_count": 3,
   "metadata": {},
   "outputs": [],
   "source": [
    "import numpy as np\n",
    "import matplotlib.pyplot as plt\n",
    "import quantecon as qe\n",
    "\n",
    "from quantecon.distributions import BetaBinomial\n",
    "from numba import jit"
   ]
  },
  {
   "cell_type": "code",
   "execution_count": 11,
   "metadata": {},
   "outputs": [
    {
     "data": {
      "image/png": "[encoded data removed]",
      "text/plain": [
       "<Figure size 648x468 with 1 Axes>"
      ]
     },
     "metadata": {},
     "output_type": "display_data"
    }
   ],
   "source": [
    "n,a,b = 50,200,100\n",
    "w_min = 10\n",
    "w_max = 60\n",
    "\n",
    "w_vals = np.linspace(w_min, w_max, n+1)\n",
    "\n",
    "dist = BetaBinomial(n,a,b)\n",
    "p_vals = dist.pdf()\n",
    "\n",
    "fig, ax = plt.subplots(figsize = (9,6.5))\n",
    "ax.stem(w_vals, p_vals, label = '$p_i$')\n",
    "ax.set_xlabel('wages')\n",
    "ax.set_ylabel('probabilities')\n",
    "\n",
    "plt.show()"
   ]
  },
  {
   "cell_type": "code",
   "execution_count": 12,
   "metadata": {},
   "outputs": [],
   "source": [
    "def plot_value_function_seq(ax,\n",
    "                            \n",
    "                            c = 25,\n",
    "                            Beta = 0.99,\n",
    "                            w_vals = w_vals,\n",
    "                            p_vals = p_vals,\n",
    "                            num_plots = 6\n",
    "                            ):\n",
    "    v = w_vals / (1-Beta)\n",
    "    v_next = np.empy_like(v)\n",
    "    \n",
    "    for i in range(num_plots):\n",
    "        ax.plot(w_vals, v, label = f'iterate {i}')"
   ]
  },
  {
   "cell_type": "code",
   "execution_count": null,
   "metadata": {},
   "outputs": [],
   "source": []
  }
 ],
 "metadata": {
  "kernelspec": {
   "display_name": "Python 3",
   "language": "python",
   "name": "python3"
  },
  "language_info": {
   "codemirror_mode": {
    "name": "ipython",
    "version": 3
   },
   "file_extension": ".py",
   "mimetype": "text/x-python",
   "name": "python",
   "nbconvert_exporter": "python",
   "pygments_lexer": "ipython3",
   "version": "3.6.5"
  }
 },
 "nbformat": 4,
 "nbformat_minor": 2
}
